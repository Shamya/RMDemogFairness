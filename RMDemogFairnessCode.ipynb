{
 "cells": [
  {
   "cell_type": "code",
   "execution_count": null,
   "metadata": {
    "collapsed": true
   },
   "outputs": [],
   "source": [
    "import numpy as np\n",
    "import warnings\n",
    "import pandas as pd\n",
    "warnings.filterwarnings('ignore')"
   ]
  },
  {
   "cell_type": "code",
   "execution_count": null,
   "metadata": {
    "collapsed": true
   },
   "outputs": [],
   "source": [
    "df_log = pd.read_csv(\"RMDemogFairnessData.csv\")"
   ]
  },
  {
   "cell_type": "code",
   "execution_count": null,
   "metadata": {
    "collapsed": true
   },
   "outputs": [],
   "source": [
    "columns = ['num_of_items_purchased','num_of_problem_BC_filtered','num_of_hints']"
   ]
  },
  {
   "cell_type": "code",
   "execution_count": null,
   "metadata": {},
   "outputs": [],
   "source": [
    "#RUN THIS - MATH SUCCESS\n",
    "from scipy.stats import spearmanr\n",
    "import math\n",
    "import numpy as np\n",
    "np.random.seed(0)\n",
    "on = 'School_ID'#'District_ID'#'School_ID' \n",
    "vc = df_log[on].value_counts() \n",
    "school_or_dist = vc[vc >= 25].index\n",
    "#list(df_log[on].value_counts().index)\n",
    "\n",
    "cor_dict = {}\n",
    "p_dict = {}\n",
    "sample_size = {}\n",
    "grade_list = {}\n",
    "school_list = {}\n",
    "student_list = []\n",
    "for col in columns:\n",
    "    st = 'problemA_accuracy'\n",
    "    cor_dict[st+'_'+col] = []\n",
    "    p_dict[st+'_'+col] = []\n",
    "    sample_size[st+'_'+col] = []\n",
    "    grade_list[st+'_'+col] = []\n",
    "    school_list[st+'_'+col] = []\n",
    "\n",
    "for val in school_or_dist:\n",
    "    #filter on district/school\n",
    "    df_hisp = df_log[df_log[on] == val]\n",
    "    #print on, \"= \", val \n",
    "    \n",
    "    #grades = df_hisp['Grade'].unique() #school-grade level\n",
    "    grades = [1] #school level\n",
    "    for grade in grades:\n",
    "        #filter on grade\n",
    "        #df_hisp_grade = df_hisp[df_hisp['Grade'] == grade]#school-grade level\n",
    "        df_hisp_grade = df_hisp #school level\n",
    "    \n",
    "        cor_list = []\n",
    "        p_list = []\n",
    "        #drop null entry students\n",
    "        df_temp = df_hisp_grade[['problemA_accuracy', 'Student_ID'] + columns]\n",
    "        df_temp.dropna(inplace=True)\n",
    "\n",
    "        for col in columns:\n",
    "            print col\n",
    "            cor = spearmanr(df_temp[col], df_temp['problemA_accuracy'])\n",
    "            print cor\n",
    "\n",
    "            if math.isnan(cor[0]):\n",
    "                #print cor\n",
    "                continue\n",
    "            else:\n",
    "                student_list.append(list(df_temp['Student_ID']))\n",
    "                cor_dict[st+'_'+col].append(cor[0])\n",
    "                p_dict[st+'_'+col].append(cor[1])\n",
    "                sample_size[st+'_'+col].append(len(df_temp))\n",
    "                grade_list[st+'_'+col].append(grade)\n",
    "                school_list[st+'_'+col].append(val)\n",
    "                cor_list.append(cor[0])\n",
    "                p_list.append(cor[1])\n",
    "\n",
    "        #print st, np.mean(cor_list), np.mean(p_list)"
   ]
  },
  {
   "cell_type": "code",
   "execution_count": null,
   "metadata": {
    "collapsed": true
   },
   "outputs": [],
   "source": [
    "#RUN THIS - MATH IDENTITY\n",
    "from scipy.stats import spearmanr\n",
    "import math\n",
    "import numpy as np\n",
    "uniq_st = ['concept_pre','concept_post']\n",
    "\n",
    "np.random.seed(0)\n",
    "on = 'School_ID'#'District_ID'#'School_ID' \n",
    "vc = df_log[on].value_counts() \n",
    "school_or_dist = vc[vc >= 25].index\n",
    "#list(df_log[on].value_counts().index)\n",
    "\n",
    "cor_dict = {}\n",
    "p_dict = {}\n",
    "sample_size = {}\n",
    "grade_list = {}\n",
    "school_list = {}\n",
    "student_list = {}\n",
    "const_list = []\n",
    "for st in uniq_st:\n",
    "    for col in columns:\n",
    "        const_list.append(st+'_'+col)\n",
    "        cor_dict[st+'_'+col] = []\n",
    "        p_dict[st+'_'+col] = []\n",
    "        sample_size[st+'_'+col] = []\n",
    "        grade_list[st+'_'+col] = []\n",
    "        school_list[st+'_'+col] = []\n",
    "        student_list[st+'_'+col] = []\n",
    "\n",
    "for val in school_or_dist:\n",
    "    #filter on district/school\n",
    "    df_hisp = df_log[df_log[on] == val]\n",
    "    #print on, \"= \", val \n",
    "    \n",
    "    #grades = df_hisp['Grade'].unique() #school-grade level\n",
    "    grades = [1] #school level\n",
    "    for grade in grades:\n",
    "        #filter on grade\n",
    "        #df_hisp_grade = df_hisp[df_hisp['Grade'] == grade]#school-grade level\n",
    "        df_hisp_grade = df_hisp #school level\n",
    "    \n",
    "        #loop over construct\n",
    "        for st in uniq_st:\n",
    "            cor_list = []\n",
    "            p_list = []\n",
    "            #drop null entry students\n",
    "            df_temp = df_hisp_grade[[st] + columns + ['Student_ID']]\n",
    "            df_temp.dropna(inplace=True)\n",
    "            if df_temp.shape[0] < 25: #number of students\n",
    "                if st == uniq_st[0]:\n",
    "                    print val\n",
    "                continue\n",
    "            #print \"construct =\", st\n",
    "            #print len(df_temp)\n",
    "            #print \"\\n\"\n",
    "            for col in columns:\n",
    "                cor = spearmanr(df_temp[col], df_temp[st])\n",
    "                if cor[1] < 0.05:\n",
    "                    print col, cor\n",
    "                if math.isnan(cor[0]):\n",
    "                    #print cor\n",
    "                    continue\n",
    "                else:\n",
    "                    student_list[st+'_'+col] = student_list[st+'_'+col] + list(df_temp['Student_ID'])\n",
    "                    cor_dict[st+'_'+col].append(cor[0])\n",
    "                    p_dict[st+'_'+col].append(cor[1])\n",
    "                    sample_size[st+'_'+col].append(len(df_temp))\n",
    "                    grade_list[st+'_'+col].append(grade)\n",
    "                    school_list[st+'_'+col].append(val)\n",
    "                    cor_list.append(cor[0])\n",
    "                    p_list.append(cor[1])\n",
    "\n",
    "            #print st, np.mean(cor_list), np.mean(p_list)"
   ]
  },
  {
   "cell_type": "code",
   "execution_count": null,
   "metadata": {},
   "outputs": [],
   "source": [
    "outcome = 'problemA_accuracy'\n",
    "#outcome = 'concept_pre'\n",
    "#outcome = 'concept_post'\n",
    "\n",
    "col = 'num_of_items_purchased'#'num_of_problem_BC_filtered'\n",
    "const = outcome+'_'+col\n",
    "\n",
    "print \"number of students\", sum(sample_size[const])\n",
    "\n",
    "#FOR SUCCESS\n",
    "df_studs_selected = df_log[df_log['School_ID'].isin(school_list[const])]\n",
    "\n",
    "#FOR IDENTITY\n",
    "#st_list = student_list[const]\n",
    "#df_studs_selected = df_log[df_log['Student_ID'].isin(st_list)]   \n",
    "\n",
    "print \"number of students verify\", len(df_studs_selected)\n",
    "\n",
    "print \"number of schools\", len(school_list[const])\n"
   ]
  },
  {
   "cell_type": "code",
   "execution_count": null,
   "metadata": {},
   "outputs": [],
   "source": [
    "#visualization\n",
    "%matplotlib inline\n",
    "#student-level\n",
    "df_studs_selected[col].plot('box')\n",
    "df_studs_selected[outcome].plot('box')\n",
    "#school-level aggregates\n",
    "df_studs_selected.groupby(['School_ID']).aggregate('mean')[col].plot('box')\n",
    "df_studs_selected.groupby(['School_ID']).aggregate('mean')[outcome].plot('box')\n",
    "#demogrpahics\n",
    "#CPETECOP, CPETSPEP, CPETLEPP\n",
    "df_studs_selected.groupby(['School_ID']).aggregate('mean')['CPETECOP'].plot('box')\n",
    "#CPETHISP, CPETBLAP, CPETWHIP, CPETASIP\n",
    "df_studs_selected.groupby(['School_ID']).aggregate('mean')['CPETWHIP'].plot('box')"
   ]
  },
  {
   "cell_type": "code",
   "execution_count": null,
   "metadata": {},
   "outputs": [],
   "source": [
    "df_temp = df_studs_selected.groupby(['School_ID']).aggregate('mean')[['CPETHISP', 'CPETBLAP', 'CPETWHIP', 'CPETASIP']]\n",
    "df_temp.columns = ['% H', '% AA', '% W', '% A']\n",
    "df_temp.boxplot(fontsize='large')"
   ]
  },
  {
   "cell_type": "code",
   "execution_count": null,
   "metadata": {},
   "outputs": [],
   "source": [
    "    df_schools = pd.DataFrame(school_list[construct])\n",
    "    df_schools.columns = ['School_ID']\n",
    "    df_schools['Grade'] = grade_list[construct]\n",
    "    df_schools = df_schools.merge( df_log, left_on = \"School_ID\", right_on = \"School_ID\", how = \"left\")\n",
    "    df_schools.drop(['School_ID'], axis=1, inplace=True)\n",
    " "
   ]
  },
  {
   "cell_type": "code",
   "execution_count": null,
   "metadata": {},
   "outputs": [],
   "source": [
    "df_schools_full = df_log[['School_ID','CPETECOP','CPETLEPP','CPETSPEP', 'CPETHISP', 'CPETBLAP', 'CPETWHIP', 'CPETASIP']]\n",
    "df_schools_full.drop_duplicates(inplace=True)\n",
    "len(df_schools_full)"
   ]
  },
  {
   "cell_type": "code",
   "execution_count": null,
   "metadata": {},
   "outputs": [],
   "source": [
    "import csv\n",
    "row = []\n",
    "row.append(['construct', 'demog', 'cor', 'p'])\n",
    "demog_list = ['CPETECOP','CPETLEPP','CPETSPEP', 'CPETHISP', 'CPETBLAP', 'CPETWHIP', 'CPETASIP']\n",
    "const_list = cor_dict.keys()\n",
    "for construct in const_list:\n",
    "    df_schools = df_schools_full[df_schools_full['School_ID'].isin(school_list[construct])]\n",
    "    \n",
    "    for demog in demog_list:\n",
    "        if demog == 'CAMPUS' or demog == 'Unnamed: 0':\n",
    "            continue\n",
    "        cor = spearmanr(cor_dict[construct], df_schools[demog])\n",
    "        #print construct, cor\n",
    "        #if cor[1] <= 0.05:# and 'problemA' in construct:\n",
    "        print construct, demog, cor[0], cor[1]\n",
    "        row.append([construct, demog, cor[0], cor[1]])"
   ]
  }
 ],
 "metadata": {
  "kernelspec": {
   "display_name": "Python 2",
   "language": "python",
   "name": "python2"
  },
  "language_info": {
   "codemirror_mode": {
    "name": "ipython",
    "version": 2
   },
   "file_extension": ".py",
   "mimetype": "text/x-python",
   "name": "python",
   "nbconvert_exporter": "python",
   "pygments_lexer": "ipython2",
   "version": "2.7.15"
  }
 },
 "nbformat": 4,
 "nbformat_minor": 2
}
